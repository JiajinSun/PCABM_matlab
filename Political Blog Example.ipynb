{
 "cells": [
  {
   "cell_type": "code",
   "execution_count": 1,
   "metadata": {},
   "outputs": [],
   "source": [
    "import networkx as nx\n",
    "import numpy as np\n",
    "import pcabm.sc as sc\n",
    "import pcabm.pcabm as pca\n",
    "from sklearn.metrics.cluster import adjusted_rand_score"
   ]
  },
  {
   "cell_type": "markdown",
   "metadata": {},
   "source": [
    "# Data Preprocessing"
   ]
  },
  {
   "cell_type": "code",
   "execution_count": 2,
   "metadata": {},
   "outputs": [],
   "source": [
    "# Read data\n",
    "G = nx.read_gml('Data/polblogs.gml')\n",
    "A = nx.adjacency_matrix(G)\n",
    "A = A.todense()\n",
    "Ab=((A+A.T)!=0).astype(int)\n",
    "np.fill_diagonal(Ab,0)"
   ]
  },
  {
   "cell_type": "code",
   "execution_count": 3,
   "metadata": {},
   "outputs": [],
   "source": [
    "# Find the largest cluster \n",
    "start=0\n",
    "check_set=set(np.nonzero(Ab[start,:])[1])\n",
    "comm_set=set()\n",
    "while len(check_set)>0:\n",
    "    bar = check_set.copy()\n",
    "    for item in bar:\n",
    "        temp=set(np.nonzero(Ab[item,:])[1])-comm_set\n",
    "        check_set=check_set|temp\n",
    "        check_set.discard(item)\n",
    "        comm_set=comm_set|{item}\n",
    "comm_set=np.array(list(comm_set))\n",
    "Ab = np.array(Ab[np.ix_(comm_set,comm_set)])"
   ]
  },
  {
   "cell_type": "code",
   "execution_count": 4,
   "metadata": {},
   "outputs": [],
   "source": [
    "# Create Label\n",
    "label=[]\n",
    "for index in comm_set:\n",
    "    label.append(G.node[list(G.node.keys())[index]]['value'])\n",
    "label = np.array(label)\n",
    "\n",
    "# Create Covariate\n",
    "k,p,n=2,1,1222\n",
    "degree = sum(Ab)\n",
    "Z = np.zeros(n*n*p);Z=Z.reshape((n,n,p))\n",
    "for i in np.arange(0,n):\n",
    "    for j in np.arange(0,n):\n",
    "        Z[i,j,0] = np.log(degree[i]*degree[j])"
   ]
  },
  {
   "cell_type": "markdown",
   "metadata": {},
   "source": [
    "# Spectral Clustering"
   ]
  },
  {
   "cell_type": "code",
   "execution_count": 22,
   "metadata": {},
   "outputs": [
    {
     "name": "stdout",
     "output_type": "stream",
     "text": [
      "ARI is 0.07990011061571035\n"
     ]
    }
   ],
   "source": [
    "modelSC = sc.SC(Ab,2)\n",
    "print('ARI is',adjusted_rand_score(modelSC.labels_,label))"
   ]
  },
  {
   "cell_type": "markdown",
   "metadata": {},
   "source": [
    "# PCABM"
   ]
  },
  {
   "cell_type": "code",
   "execution_count": 23,
   "metadata": {},
   "outputs": [
    {
     "name": "stdout",
     "output_type": "stream",
     "text": [
      "ARI is 0.7838148145129697\n"
     ]
    }
   ],
   "source": [
    "modelPCA = pca.PCABM(Ab,Z,2,gamma_est)\n",
    "estPCA,_ = modelPCA.fit(gt=label,init = 30, tabu_size=300,max_iterations=5000,max_stay=300)\n",
    "print('ARI is',adjusted_rand_score(estPCA,label))"
   ]
  },
  {
   "cell_type": "code",
   "execution_count": 13,
   "metadata": {
    "scrolled": false
   },
   "outputs": [
    {
     "data": {
      "text/plain": [
       "(array([ 67905., 116296., 215206., 308906., 302313., 251239., 161233.,\n",
       "         61119.,   8714.,    353.]),\n",
       " array([ 0.        ,  1.17215724,  2.34431449,  3.51647173,  4.68862898,\n",
       "         5.86078622,  7.03294347,  8.20510071,  9.37725796, 10.5494152 ,\n",
       "        11.72157245]),\n",
       " <a list of 10 Patch objects>)"
      ]
     },
     "execution_count": 13,
     "metadata": {},
     "output_type": "execute_result"
    },
    {
     "data": {
      "image/png": "[encoded data removed]",
      "text/plain": [
       "<Figure size 432x288 with 1 Axes>"
      ]
     },
     "metadata": {
      "needs_background": "light"
     },
     "output_type": "display_data"
    }
   ],
   "source": [
    "import matplotlib.pyplot as plt\n",
    "plt.hist(Z.flatten())"
   ]
  },
  {
   "cell_type": "code",
   "execution_count": null,
   "metadata": {},
   "outputs": [],
   "source": []
  }
 ],
 "metadata": {
  "kernelspec": {
   "display_name": "Python 3",
   "language": "python",
   "name": "python3"
  },
  "language_info": {
   "codemirror_mode": {
    "name": "ipython",
    "version": 3
   },
   "file_extension": ".py",
   "mimetype": "text/x-python",
   "name": "python",
   "nbconvert_exporter": "python",
   "pygments_lexer": "ipython3",
   "version": "3.7.3"
  },
  "toc": {
   "base_numbering": 1,
   "nav_menu": {},
   "number_sections": true,
   "sideBar": true,
   "skip_h1_title": false,
   "title_cell": "Table of Contents",
   "title_sidebar": "Contents",
   "toc_cell": false,
   "toc_position": {},
   "toc_section_display": true,
   "toc_window_display": false
  }
 },
 "nbformat": 4,
 "nbformat_minor": 2
}
