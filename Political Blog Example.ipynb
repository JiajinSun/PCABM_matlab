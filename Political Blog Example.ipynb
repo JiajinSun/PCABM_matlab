{
 "cells": [
  {
   "cell_type": "code",
   "execution_count": 39,
   "metadata": {
    "collapsed": true
   },
   "outputs": [],
   "source": [
    "import networkx as nx\n",
    "import numpy as np\n",
    "import pcabm.sc as sc\n",
    "import pcabm.pcabm as pca\n",
    "from sklearn.metrics.cluster import adjusted_rand_score\n",
    "from sklearn.metrics import normalized_mutual_info_score"
   ]
  },
  {
   "cell_type": "markdown",
   "metadata": {},
   "source": [
    "# Data Preprocessing"
   ]
  },
  {
   "cell_type": "code",
   "execution_count": 2,
   "metadata": {
    "collapsed": true
   },
   "outputs": [],
   "source": [
    "# Read Data\n",
    "G = nx.read_gml('Data/polblogs/polblogs.gml')\n",
    "A = nx.adjacency_matrix(G)\n",
    "A = A.todense()\n",
    "Ab=((A+A.T)!=0).astype(int)\n",
    "np.fill_diagonal(Ab,0)"
   ]
  },
  {
   "cell_type": "code",
   "execution_count": 3,
   "metadata": {
    "collapsed": true
   },
   "outputs": [],
   "source": [
    "# Find the largest cluster \n",
    "start=0\n",
    "check_set=set(np.nonzero(Ab[start,:])[1])\n",
    "comm_set=set()\n",
    "while len(check_set)>0:\n",
    "    bar = check_set.copy()\n",
    "    for item in bar:\n",
    "        temp=set(np.nonzero(Ab[item,:])[1])-comm_set\n",
    "        check_set=check_set|temp\n",
    "        check_set.discard(item)\n",
    "        comm_set=comm_set|{item}\n",
    "comm_set=np.array(list(comm_set))\n",
    "Ab = np.array(Ab[np.ix_(comm_set,comm_set)])"
   ]
  },
  {
   "cell_type": "code",
   "execution_count": 5,
   "metadata": {
    "collapsed": true
   },
   "outputs": [],
   "source": [
    "# Create Label\n",
    "label=[]\n",
    "for index in comm_set:\n",
    "    label.append(G.node[list(G.node.keys())[index]]['value'])\n",
    "label = np.array(label)\n",
    "\n",
    "# Create Covariate\n",
    "k,p,n=2,1,1222\n",
    "degree = sum(Ab)\n",
    "Z = np.zeros(n*n*p);Z=Z.reshape((n,n,p))\n",
    "for i in np.arange(0,n):\n",
    "    for j in np.arange(0,n):\n",
    "        Z[i,j,0] = np.log(degree[i]*degree[j])"
   ]
  },
  {
   "cell_type": "markdown",
   "metadata": {},
   "source": [
    "# Spectral Clustering"
   ]
  },
  {
   "cell_type": "code",
   "execution_count": 40,
   "metadata": {
    "collapsed": false
   },
   "outputs": [
    {
     "name": "stdout",
     "output_type": "stream",
     "text": [
      "ARI is 0.07990011061571035\n",
      "NMI is 0.18691875458682788\n"
     ]
    }
   ],
   "source": [
    "modelSC = sc.SC(Ab,2)\n",
    "print('ARI is',adjusted_rand_score(modelSC.labels_,label))\n",
    "print('NMI is',normalized_mutual_info_score(modelSC.labels_,label))"
   ]
  },
  {
   "cell_type": "markdown",
   "metadata": {},
   "source": [
    "PCABM"
   ]
  },
  {
   "cell_type": "code",
   "execution_count": 38,
   "metadata": {
    "collapsed": false
   },
   "outputs": [
    {
     "name": "stdout",
     "output_type": "stream",
     "text": [
      "ARI is 0.8130899775528108\n",
      "NMI is 0.7223139311594611\n"
     ]
    }
   ],
   "source": [
    "modelPCA = pca.PCABM(Ab,Z,2)\n",
    "estPCA,nll = modelPCA.fit(community=modelSC.labels_,gt=label,tabu_size=300,max_iterations=30000,max_stay=1500)"
   ]
  }
 ],
 "metadata": {
  "kernelspec": {
   "display_name": "Python 3",
   "language": "python",
   "name": "python3"
  },
  "language_info": {
   "codemirror_mode": {
    "name": "ipython",
    "version": 3
   },
   "file_extension": ".py",
   "mimetype": "text/x-python",
   "name": "python",
   "nbconvert_exporter": "python",
   "pygments_lexer": "ipython3",
   "version": "3.6.1"
  }
 },
 "nbformat": 4,
 "nbformat_minor": 2
}
