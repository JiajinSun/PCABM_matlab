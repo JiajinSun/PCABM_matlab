{
 "cells": [
  {
   "cell_type": "code",
   "execution_count": 1,
   "metadata": {
    "collapsed": false
   },
   "outputs": [],
   "source": [
    "import numpy as np\n",
    "import pcabm.dcbm as dc\n",
    "import pcabm.pcabm as pca\n",
    "import pcabm.sc as sc\n",
    "from sklearn.metrics import normalized_mutual_info_score\n",
    "from sklearn.metrics.cluster import adjusted_rand_score"
   ]
  },
  {
   "cell_type": "code",
   "execution_count": 2,
   "metadata": {
    "collapsed": false
   },
   "outputs": [],
   "source": [
    "## Parameter Settings\n",
    "p, n, k = 5,200,2\n",
    "rho = 2*np.log(n)**1.5/n                  # sparsity level\n",
    "gamma = 1*np.array((0.4,0.8,1.2,1.6,2))   # covariate coefficients\n",
    "\n",
    "## Generate Covariates\n",
    "X = np.zeros((n,p))\n",
    "X[:,0] = np.random.binomial(1,0.1,n)\n",
    "X[:,1] = np.random.poisson(0.1,n)\n",
    "X[:,2] = np.random.uniform(0,1,n)\n",
    "X[:,3] = np.random.exponential(0.3,n)\n",
    "X[:,4] = np.random.normal(0,0.3,n)\n",
    "\n",
    "## Generate Pairwise Covariates\n",
    "Z = np.zeros((n,n,p))\n",
    "for i in np.arange(p):\n",
    "    temp1 = np.repeat(X[:,i],repeats=n,axis=0)\n",
    "    temp2 = np.reshape(temp1, (n, n), order='F')\n",
    "    temp3 = np.matrix.transpose(temp2)\n",
    "    Z[:,:,i] = abs(temp2-temp3)\n",
    "\n",
    "# Generate Edge\n",
    "B = np.ones((n,n));B[0:(n//2),0:(n//2)]=2;B[(n//2):n,(n//2):n]=2;B=B*rho\n",
    "lam = np.multiply(B,np.exp(np.dot(Z,gamma)))\n",
    "A = np.random.poisson(np.tril(lam,-1)); Ab = A+A.T\n",
    "gt=np.array([0]*(n//2)+[1]*(n//2))      # ground truth"
   ]
  },
  {
   "cell_type": "markdown",
   "metadata": {},
   "source": [
    "# PCABM.SCWA"
   ]
  },
  {
   "cell_type": "code",
   "execution_count": 7,
   "metadata": {
    "collapsed": false
   },
   "outputs": [
    {
     "name": "stdout",
     "output_type": "stream",
     "text": [
      "ARI is 1.0\n",
      "NMI is 1.0\n"
     ]
    }
   ],
   "source": [
    "modelSCWA,gamma = sc.SCWA(Ab,Z,2)\n",
    "print('ARI is', adjusted_rand_score(modelSCWA.labels_,gt))\n",
    "print('NMI is', normalized_mutual_info_score(modelSCWA.labels_,gt))"
   ]
  },
  {
   "cell_type": "markdown",
   "metadata": {},
   "source": [
    "# PCABM.MLE0"
   ]
  },
  {
   "cell_type": "code",
   "execution_count": 5,
   "metadata": {
    "collapsed": false
   },
   "outputs": [
    {
     "name": "stdout",
     "output_type": "stream",
     "text": [
      "ARI is 1.0\n",
      "NMI is 1.0\n"
     ]
    }
   ],
   "source": [
    "# This may give a bad result. Usually, we need to try multiple initializations.\n",
    "modelPCA = pca.PCABM(Ab,Z,2,gamma)\n",
    "estPCA = modelPCA.fit(community=np.random.randint(2, size=n),gt=gt)"
   ]
  },
  {
   "cell_type": "markdown",
   "metadata": {},
   "source": [
    "#  PCABM.MLE"
   ]
  },
  {
   "cell_type": "code",
   "execution_count": 8,
   "metadata": {
    "collapsed": false
   },
   "outputs": [
    {
     "name": "stdout",
     "output_type": "stream",
     "text": [
      "ARI is 1.0\n",
      "NMI is 1.0\n"
     ]
    }
   ],
   "source": [
    "modelPCA = pca.PCABM(Ab,Z,2,gamma)\n",
    "estPCA = modelPCA.fit(community=modelSCWA.labels_,gt=gt)"
   ]
  },
  {
   "cell_type": "markdown",
   "metadata": {},
   "source": [
    "# SBM.SC"
   ]
  },
  {
   "cell_type": "code",
   "execution_count": 11,
   "metadata": {
    "collapsed": false
   },
   "outputs": [
    {
     "name": "stdout",
     "output_type": "stream",
     "text": [
      "ARI is 1.0\n",
      "NMI is 1.0\n"
     ]
    }
   ],
   "source": [
    "modelSC = sc.SC(Ab,2)\n",
    "print('ARI is', adjusted_rand_score(modelSC.labels_,gt))\n",
    "print('NMI is', normalized_mutual_info_score(modelSC.labels_,gt))"
   ]
  },
  {
   "cell_type": "markdown",
   "metadata": {},
   "source": [
    "# SCORE"
   ]
  },
  {
   "cell_type": "code",
   "execution_count": 12,
   "metadata": {
    "collapsed": false
   },
   "outputs": [
    {
     "name": "stdout",
     "output_type": "stream",
     "text": [
      "ARI is -0.0023146359825917348\n",
      "NMI is 0.0019185362230944743\n"
     ]
    }
   ],
   "source": [
    "modelSCORE = sc.SCORE(Ab,2)\n",
    "print('ARI is', adjusted_rand_score(modelSCORE.labels_,gt))\n",
    "print('NMI is', normalized_mutual_info_score(modelSCORE.labels_,gt))"
   ]
  }
 ],
 "metadata": {
  "kernelspec": {
   "display_name": "Python 3",
   "language": "python",
   "name": "python3"
  },
  "language_info": {
   "codemirror_mode": {
    "name": "ipython",
    "version": 3
   },
   "file_extension": ".py",
   "mimetype": "text/x-python",
   "name": "python",
   "nbconvert_exporter": "python",
   "pygments_lexer": "ipython3",
   "version": "3.6.1"
  }
 },
 "nbformat": 4,
 "nbformat_minor": 2
}
