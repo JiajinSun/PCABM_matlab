{
 "cells": [
  {
   "cell_type": "code",
   "execution_count": 1,
   "metadata": {},
   "outputs": [],
   "source": [
    "import numpy as np\n",
    "import pcabm.dcbm as dc\n",
    "import pcabm.pcabm as pca\n",
    "import pcabm.sc as sc\n",
    "import pcabm.commFunc as cf\n",
    "from sklearn.metrics.cluster import adjusted_rand_score"
   ]
  },
  {
   "cell_type": "markdown",
   "metadata": {},
   "source": [
    "# Data Generation\n",
    "This is the simulation in Section 6.1. "
   ]
  },
  {
   "cell_type": "code",
   "execution_count": 2,
   "metadata": {},
   "outputs": [],
   "source": [
    "## Parameter Settings\n",
    "p, n, k = 5,200,2\n",
    "rho = 2*np.log(n)**1.5/n                  # sparsity level\n",
    "gamma = np.arange(0.4,2.1,0.4)            # covariate coefficients\n",
    "\n",
    "## Generate Covariates\n",
    "Z = np.zeros((p,n,n))\n",
    "Z[0,:,:] = np.random.binomial(1,0.1,size=(n,n))\n",
    "Z[1,:,:] = np.random.poisson(0.1,size=(n,n))\n",
    "Z[2,:,:] = np.random.uniform(0,1,size=(n,n))\n",
    "Z[3,:,:] = np.random.exponential(0.3,size=(n,n))\n",
    "Z[4,:,:] = np.random.normal(0,0.3,size=(n,n))\n",
    "Z = np.tril(Z,-1)\n",
    "Z = Z+np.transpose(Z,axes=(0,2,1))\n",
    "Z = np.transpose(Z,axes=(1,2,0))\n",
    "\n",
    "# Generate Edge\n",
    "B = np.ones((n,n));B[0:(n//2),0:(n//2)]=2;B[(n//2):n,(n//2):n]=2;B=B*rho\n",
    "lam = np.multiply(B,np.exp(np.dot(Z,gamma)))\n",
    "A = np.random.poisson(np.tril(lam,-1)); Ab = A+A.T\n",
    "gt=np.array([0]*(n//2)+[1]*(n//2))      # ground truth"
   ]
  },
  {
   "cell_type": "markdown",
   "metadata": {},
   "source": [
    "# PCABM.SCWA\n",
    "$\\gamma$ estimation and SCWA"
   ]
  },
  {
   "cell_type": "code",
   "execution_count": 3,
   "metadata": {},
   "outputs": [
    {
     "name": "stdout",
     "output_type": "stream",
     "text": [
      "ARI is 1.0\n"
     ]
    }
   ],
   "source": [
    "modelSCWA,gamma_est = sc.SCWA(Ab,Z,2)\n",
    "print('ARI is', adjusted_rand_score(modelSCWA.labels_,gt))"
   ]
  },
  {
   "cell_type": "markdown",
   "metadata": {},
   "source": [
    "Confidence interval for $\\gamma$"
   ]
  },
  {
   "cell_type": "code",
   "execution_count": 4,
   "metadata": {},
   "outputs": [
    {
     "name": "stdout",
     "output_type": "stream",
     "text": [
      "Lower:  [0.37157947 0.76953243 1.07111069 1.59628841 1.96773418]\n",
      "Upper:  [0.452042   0.82869656 1.17238694 1.64127653 2.06258667]\n"
     ]
    }
   ],
   "source": [
    "FI = cf.Info(modelSCWA.labels_,gamma_est,Ab,Z)\n",
    "print('Lower: ',gamma_est-1.96*np.sqrt(np.diagonal(np.linalg.inv(FI))))\n",
    "print('Upper: ',gamma_est+1.96*np.sqrt(np.diagonal(np.linalg.inv(FI))))"
   ]
  },
  {
   "cell_type": "markdown",
   "metadata": {},
   "source": [
    "# PCABM.MLE0\n",
    "We directly apply the $\\hat{\\gamma}$ estimated in the last step. This may give a bad result. Usually, we need to try multiple initializations."
   ]
  },
  {
   "cell_type": "code",
   "execution_count": 5,
   "metadata": {},
   "outputs": [
    {
     "name": "stdout",
     "output_type": "stream",
     "text": [
      "ARI is -0.004908890090859961\n"
     ]
    }
   ],
   "source": [
    "modelPCA = pca.PCABM(Ab,Z,2,gamma_est)\n",
    "estPCA,_ = modelPCA.fit(community_init=np.random.randint(2, size=n),gt=gt)\n",
    "print('ARI is', adjusted_rand_score(estPCA,gt))"
   ]
  },
  {
   "cell_type": "markdown",
   "metadata": {},
   "source": [
    "#  PCABM.MLE\n",
    "We use the label estimated from SCWA as the initialization of tabu search, which usually results in more stable results."
   ]
  },
  {
   "cell_type": "code",
   "execution_count": 6,
   "metadata": {},
   "outputs": [
    {
     "name": "stdout",
     "output_type": "stream",
     "text": [
      "ARI is 1.0\n"
     ]
    }
   ],
   "source": [
    "modelPCA = pca.PCABM(Ab,Z,2,gamma_est)\n",
    "estPCA,_ = modelPCA.fit(community_init=modelSCWA.labels_,gt=gt)\n",
    "print('ARI is', adjusted_rand_score(estPCA,gt))"
   ]
  },
  {
   "cell_type": "markdown",
   "metadata": {},
   "source": [
    "# SBM.SC"
   ]
  },
  {
   "cell_type": "code",
   "execution_count": 7,
   "metadata": {},
   "outputs": [
    {
     "name": "stdout",
     "output_type": "stream",
     "text": [
      "ARI is 0.00020104503207688478\n"
     ]
    }
   ],
   "source": [
    "modelSC = sc.SC(Ab,2)\n",
    "print('ARI is', adjusted_rand_score(modelSC.labels_,gt))"
   ]
  },
  {
   "cell_type": "markdown",
   "metadata": {},
   "source": [
    "# SCORE"
   ]
  },
  {
   "cell_type": "code",
   "execution_count": 8,
   "metadata": {},
   "outputs": [
    {
     "name": "stdout",
     "output_type": "stream",
     "text": [
      "ARI is 0.02096359846832432\n"
     ]
    }
   ],
   "source": [
    "modelSCORE = sc.SCORE(Ab,2)\n",
    "print('ARI is', adjusted_rand_score(modelSCORE.labels_,gt))"
   ]
  }
 ],
 "metadata": {
  "kernelspec": {
   "display_name": "Python 3",
   "language": "python",
   "name": "python3"
  },
  "language_info": {
   "codemirror_mode": {
    "name": "ipython",
    "version": 3
   },
   "file_extension": ".py",
   "mimetype": "text/x-python",
   "name": "python",
   "nbconvert_exporter": "python",
   "pygments_lexer": "ipython3",
   "version": "3.7.3"
  },
  "toc": {
   "base_numbering": 1,
   "nav_menu": {},
   "number_sections": true,
   "sideBar": true,
   "skip_h1_title": false,
   "title_cell": "Table of Contents",
   "title_sidebar": "Contents",
   "toc_cell": false,
   "toc_position": {},
   "toc_section_display": true,
   "toc_window_display": false
  }
 },
 "nbformat": 4,
 "nbformat_minor": 2
}
